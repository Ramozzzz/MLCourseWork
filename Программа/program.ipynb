{
 "cells": [
  {
   "cell_type": "code",
   "execution_count": 1,
   "metadata": {},
   "outputs": [],
   "source": [
    "import pandas as pd\n",
    "from sklearn.linear_model import LinearRegression, Ridge, Lasso, ElasticNet\n",
    "from sklearn.model_selection import train_test_split\n",
    "from sklearn.preprocessing import StandardScaler, PolynomialFeatures\n",
    "from sklearn.pipeline import Pipeline\n",
    "from sklearn.metrics import mean_squared_error as mse, r2_score as r2\n",
    "import matplotlib.pyplot as plt"
   ]
  },
  {
   "cell_type": "markdown",
   "metadata": {},
   "source": [
    "## Импорт и предобработка данных"
   ]
  },
  {
   "cell_type": "markdown",
   "metadata": {},
   "source": [
    "**Функция для импорта датасетов**"
   ]
  },
  {
   "cell_type": "code",
   "execution_count": 2,
   "metadata": {},
   "outputs": [],
   "source": [
    "def import_dataset(filepath):\n",
    "    \n",
    "    df = pd.read_csv(filepath, sep = ';', usecols = ['<DATE>', '<CLOSE>'], parse_dates = ['<DATE>'])\n",
    "    name = filepath[filepath.rindex('/') + 1:len(filepath) - 4]\n",
    "    df.rename(columns = {'<DATE>':'Дата', '<CLOSE>':name}, inplace = True)\n",
    "    \n",
    "    return df"
   ]
  },
  {
   "cell_type": "markdown",
   "metadata": {},
   "source": [
    "**Данные о котировках взяты за период с 1 января 2010 года по 1 января 2020 года, таймфрейм - день**\n",
    "\n",
    "**Сайт - mfd.ru, раздел МосБиржа Акции и ПИФы, тикеры: Сбербанк, ГАЗПРОМ ао, ЛУКОЙЛ, ГМКНорНик**"
   ]
  },
  {
   "cell_type": "code",
   "execution_count": 3,
   "metadata": {},
   "outputs": [
    {
     "data": {
      "text/html": [
       "<div>\n",
       "<style scoped>\n",
       "    .dataframe tbody tr th:only-of-type {\n",
       "        vertical-align: middle;\n",
       "    }\n",
       "\n",
       "    .dataframe tbody tr th {\n",
       "        vertical-align: top;\n",
       "    }\n",
       "\n",
       "    .dataframe thead th {\n",
       "        text-align: right;\n",
       "    }\n",
       "</style>\n",
       "<table border=\"1\" class=\"dataframe\">\n",
       "  <thead>\n",
       "    <tr style=\"text-align: right;\">\n",
       "      <th></th>\n",
       "      <th>Дата</th>\n",
       "      <th>Сбербанк</th>\n",
       "      <th>Газпром</th>\n",
       "      <th>Лукойл</th>\n",
       "      <th>НорНикель</th>\n",
       "    </tr>\n",
       "  </thead>\n",
       "  <tbody>\n",
       "    <tr>\n",
       "      <th>0</th>\n",
       "      <td>2010-11-01</td>\n",
       "      <td>86.69</td>\n",
       "      <td>194.50</td>\n",
       "      <td>1750.98</td>\n",
       "      <td>4695.40</td>\n",
       "    </tr>\n",
       "    <tr>\n",
       "      <th>1</th>\n",
       "      <td>2010-12-01</td>\n",
       "      <td>85.00</td>\n",
       "      <td>191.80</td>\n",
       "      <td>1719.82</td>\n",
       "      <td>4640.06</td>\n",
       "    </tr>\n",
       "    <tr>\n",
       "      <th>2</th>\n",
       "      <td>2010-01-13</td>\n",
       "      <td>86.61</td>\n",
       "      <td>189.30</td>\n",
       "      <td>1709.44</td>\n",
       "      <td>4654.14</td>\n",
       "    </tr>\n",
       "    <tr>\n",
       "      <th>3</th>\n",
       "      <td>2010-01-14</td>\n",
       "      <td>87.55</td>\n",
       "      <td>190.83</td>\n",
       "      <td>1726.80</td>\n",
       "      <td>4892.94</td>\n",
       "    </tr>\n",
       "    <tr>\n",
       "      <th>4</th>\n",
       "      <td>2010-01-15</td>\n",
       "      <td>88.15</td>\n",
       "      <td>187.86</td>\n",
       "      <td>1731.95</td>\n",
       "      <td>4884.62</td>\n",
       "    </tr>\n",
       "    <tr>\n",
       "      <th>...</th>\n",
       "      <td>...</td>\n",
       "      <td>...</td>\n",
       "      <td>...</td>\n",
       "      <td>...</td>\n",
       "      <td>...</td>\n",
       "    </tr>\n",
       "    <tr>\n",
       "      <th>2506</th>\n",
       "      <td>2019-12-24</td>\n",
       "      <td>248.67</td>\n",
       "      <td>254.87</td>\n",
       "      <td>6080.50</td>\n",
       "      <td>19630.00</td>\n",
       "    </tr>\n",
       "    <tr>\n",
       "      <th>2507</th>\n",
       "      <td>2019-12-25</td>\n",
       "      <td>248.04</td>\n",
       "      <td>253.25</td>\n",
       "      <td>6081.00</td>\n",
       "      <td>19890.00</td>\n",
       "    </tr>\n",
       "    <tr>\n",
       "      <th>2508</th>\n",
       "      <td>2019-12-26</td>\n",
       "      <td>248.24</td>\n",
       "      <td>254.10</td>\n",
       "      <td>6085.00</td>\n",
       "      <td>19220.00</td>\n",
       "    </tr>\n",
       "    <tr>\n",
       "      <th>2509</th>\n",
       "      <td>2019-12-27</td>\n",
       "      <td>252.06</td>\n",
       "      <td>257.11</td>\n",
       "      <td>6150.00</td>\n",
       "      <td>19292.00</td>\n",
       "    </tr>\n",
       "    <tr>\n",
       "      <th>2510</th>\n",
       "      <td>2019-12-30</td>\n",
       "      <td>254.75</td>\n",
       "      <td>256.40</td>\n",
       "      <td>6169.00</td>\n",
       "      <td>19102.00</td>\n",
       "    </tr>\n",
       "  </tbody>\n",
       "</table>\n",
       "<p>2511 rows × 5 columns</p>\n",
       "</div>"
      ],
      "text/plain": [
       "           Дата  Сбербанк  Газпром   Лукойл  НорНикель\n",
       "0    2010-11-01     86.69   194.50  1750.98    4695.40\n",
       "1    2010-12-01     85.00   191.80  1719.82    4640.06\n",
       "2    2010-01-13     86.61   189.30  1709.44    4654.14\n",
       "3    2010-01-14     87.55   190.83  1726.80    4892.94\n",
       "4    2010-01-15     88.15   187.86  1731.95    4884.62\n",
       "...         ...       ...      ...      ...        ...\n",
       "2506 2019-12-24    248.67   254.87  6080.50   19630.00\n",
       "2507 2019-12-25    248.04   253.25  6081.00   19890.00\n",
       "2508 2019-12-26    248.24   254.10  6085.00   19220.00\n",
       "2509 2019-12-27    252.06   257.11  6150.00   19292.00\n",
       "2510 2019-12-30    254.75   256.40  6169.00   19102.00\n",
       "\n",
       "[2511 rows x 5 columns]"
      ]
     },
     "execution_count": 3,
     "metadata": {},
     "output_type": "execute_result"
    }
   ],
   "source": [
    "files = ('./Датасеты/Сбербанк.txt', './Датасеты/Газпром.txt', './Датасеты/Лукойл.txt', './Датасеты/НорНикель.txt')\n",
    "df = import_dataset(files[0])\n",
    "\n",
    "for filepath in files[1:]:\n",
    "    \n",
    "    df = df.merge(right = import_dataset(filepath), how = 'inner', on = 'Дата')\n",
    "    \n",
    "df"
   ]
  },
  {
   "cell_type": "markdown",
   "metadata": {},
   "source": [
    "**Наш исходный датасет готов. Он содержит 2511 строк и 5 столбцов (4 из которых - котировки). Проведем предобработку данных**"
   ]
  },
  {
   "cell_type": "code",
   "execution_count": 4,
   "metadata": {},
   "outputs": [
    {
     "name": "stdout",
     "output_type": "stream",
     "text": [
      "<class 'pandas.core.frame.DataFrame'>\n",
      "Int64Index: 2511 entries, 0 to 2510\n",
      "Data columns (total 5 columns):\n",
      " #   Column     Non-Null Count  Dtype         \n",
      "---  ------     --------------  -----         \n",
      " 0   Дата       2511 non-null   datetime64[ns]\n",
      " 1   Сбербанк   2511 non-null   float64       \n",
      " 2   Газпром    2511 non-null   float64       \n",
      " 3   Лукойл     2511 non-null   float64       \n",
      " 4   НорНикель  2511 non-null   float64       \n",
      "dtypes: datetime64[ns](1), float64(4)\n",
      "memory usage: 117.7 KB\n"
     ]
    }
   ],
   "source": [
    "df.info()"
   ]
  },
  {
   "cell_type": "code",
   "execution_count": 5,
   "metadata": {},
   "outputs": [
    {
     "data": {
      "text/plain": [
       "Дата         0\n",
       "Сбербанк     0\n",
       "Газпром      0\n",
       "Лукойл       0\n",
       "НорНикель    0\n",
       "dtype: int64"
      ]
     },
     "execution_count": 5,
     "metadata": {},
     "output_type": "execute_result"
    }
   ],
   "source": [
    "df.isnull().sum()"
   ]
  },
  {
   "cell_type": "markdown",
   "metadata": {},
   "source": [
    "**В датасете отсутствуют пустые значения. Все данные по котировкам имеют тип float64, это означает две вещи. Первое: нет ошибок в шкалах (иначе был бы тип object). Второе: данные непрерывные и измеряются по числовой шкале. Задача машинного обучения - регрессия. Теперь нужно избавить датасет от выбросов**"
   ]
  },
  {
   "cell_type": "code",
   "execution_count": 6,
   "metadata": {},
   "outputs": [],
   "source": [
    "def delete_outliers(df):\n",
    "        \n",
    "    new_df = pd.DataFrame({'Дата': df['Дата']})\n",
    "\n",
    "    for col in df.columns[1:]:\n",
    "\n",
    "        q1, q3 = df[col].quantile([0.25, 0.75])\n",
    "        iqr = q3 - q1\n",
    "\n",
    "        new_df = new_df.merge(pd.DataFrame({'Дата': df['Дата'], col: df.query(f\"@q1 - 1.5*@iqr < {col} < @q3 + 1.5*@iqr\")[col]}),\n",
    "                              how = 'inner', on = 'Дата')\n",
    "        \n",
    "    return new_df.dropna()"
   ]
  },
  {
   "cell_type": "code",
   "execution_count": 7,
   "metadata": {},
   "outputs": [
    {
     "data": {
      "text/html": [
       "<div>\n",
       "<style scoped>\n",
       "    .dataframe tbody tr th:only-of-type {\n",
       "        vertical-align: middle;\n",
       "    }\n",
       "\n",
       "    .dataframe tbody tr th {\n",
       "        vertical-align: top;\n",
       "    }\n",
       "\n",
       "    .dataframe thead th {\n",
       "        text-align: right;\n",
       "    }\n",
       "</style>\n",
       "<table border=\"1\" class=\"dataframe\">\n",
       "  <thead>\n",
       "    <tr style=\"text-align: right;\">\n",
       "      <th></th>\n",
       "      <th>Дата</th>\n",
       "      <th>Сбербанк</th>\n",
       "      <th>Газпром</th>\n",
       "      <th>Лукойл</th>\n",
       "      <th>НорНикель</th>\n",
       "    </tr>\n",
       "  </thead>\n",
       "  <tbody>\n",
       "    <tr>\n",
       "      <th>0</th>\n",
       "      <td>2010-11-01</td>\n",
       "      <td>86.69</td>\n",
       "      <td>194.50</td>\n",
       "      <td>1750.98</td>\n",
       "      <td>4695.40</td>\n",
       "    </tr>\n",
       "    <tr>\n",
       "      <th>1</th>\n",
       "      <td>2010-12-01</td>\n",
       "      <td>85.00</td>\n",
       "      <td>191.80</td>\n",
       "      <td>1719.82</td>\n",
       "      <td>4640.06</td>\n",
       "    </tr>\n",
       "    <tr>\n",
       "      <th>2</th>\n",
       "      <td>2010-01-13</td>\n",
       "      <td>86.61</td>\n",
       "      <td>189.30</td>\n",
       "      <td>1709.44</td>\n",
       "      <td>4654.14</td>\n",
       "    </tr>\n",
       "    <tr>\n",
       "      <th>3</th>\n",
       "      <td>2010-01-14</td>\n",
       "      <td>87.55</td>\n",
       "      <td>190.83</td>\n",
       "      <td>1726.80</td>\n",
       "      <td>4892.94</td>\n",
       "    </tr>\n",
       "    <tr>\n",
       "      <th>4</th>\n",
       "      <td>2010-01-15</td>\n",
       "      <td>88.15</td>\n",
       "      <td>187.86</td>\n",
       "      <td>1731.95</td>\n",
       "      <td>4884.62</td>\n",
       "    </tr>\n",
       "    <tr>\n",
       "      <th>...</th>\n",
       "      <td>...</td>\n",
       "      <td>...</td>\n",
       "      <td>...</td>\n",
       "      <td>...</td>\n",
       "      <td>...</td>\n",
       "    </tr>\n",
       "    <tr>\n",
       "      <th>2252</th>\n",
       "      <td>2018-12-21</td>\n",
       "      <td>186.79</td>\n",
       "      <td>151.12</td>\n",
       "      <td>4930.00</td>\n",
       "      <td>13014.00</td>\n",
       "    </tr>\n",
       "    <tr>\n",
       "      <th>2253</th>\n",
       "      <td>2018-12-24</td>\n",
       "      <td>184.30</td>\n",
       "      <td>149.73</td>\n",
       "      <td>4909.00</td>\n",
       "      <td>12783.00</td>\n",
       "    </tr>\n",
       "    <tr>\n",
       "      <th>2254</th>\n",
       "      <td>2018-12-25</td>\n",
       "      <td>183.30</td>\n",
       "      <td>147.01</td>\n",
       "      <td>4810.00</td>\n",
       "      <td>12555.00</td>\n",
       "    </tr>\n",
       "    <tr>\n",
       "      <th>2255</th>\n",
       "      <td>2018-12-26</td>\n",
       "      <td>183.40</td>\n",
       "      <td>148.41</td>\n",
       "      <td>4829.50</td>\n",
       "      <td>12867.00</td>\n",
       "    </tr>\n",
       "    <tr>\n",
       "      <th>2256</th>\n",
       "      <td>2018-12-27</td>\n",
       "      <td>185.00</td>\n",
       "      <td>150.68</td>\n",
       "      <td>4884.00</td>\n",
       "      <td>12889.00</td>\n",
       "    </tr>\n",
       "  </tbody>\n",
       "</table>\n",
       "<p>2162 rows × 5 columns</p>\n",
       "</div>"
      ],
      "text/plain": [
       "           Дата  Сбербанк  Газпром   Лукойл  НорНикель\n",
       "0    2010-11-01     86.69   194.50  1750.98    4695.40\n",
       "1    2010-12-01     85.00   191.80  1719.82    4640.06\n",
       "2    2010-01-13     86.61   189.30  1709.44    4654.14\n",
       "3    2010-01-14     87.55   190.83  1726.80    4892.94\n",
       "4    2010-01-15     88.15   187.86  1731.95    4884.62\n",
       "...         ...       ...      ...      ...        ...\n",
       "2252 2018-12-21    186.79   151.12  4930.00   13014.00\n",
       "2253 2018-12-24    184.30   149.73  4909.00   12783.00\n",
       "2254 2018-12-25    183.30   147.01  4810.00   12555.00\n",
       "2255 2018-12-26    183.40   148.41  4829.50   12867.00\n",
       "2256 2018-12-27    185.00   150.68  4884.00   12889.00\n",
       "\n",
       "[2162 rows x 5 columns]"
      ]
     },
     "execution_count": 7,
     "metadata": {},
     "output_type": "execute_result"
    }
   ],
   "source": [
    "df = delete_outliers(df)\n",
    "df"
   ]
  },
  {
   "cell_type": "markdown",
   "metadata": {},
   "source": [
    "**Котировки акций Сбербанка - это эндогенная переменная нашей модели. Построим корреляционную матрицу для выявления статистической зависимости между ними и котировками остальных компаний**"
   ]
  },
  {
   "cell_type": "code",
   "execution_count": 8,
   "metadata": {},
   "outputs": [
    {
     "data": {
      "text/html": [
       "<div>\n",
       "<style scoped>\n",
       "    .dataframe tbody tr th:only-of-type {\n",
       "        vertical-align: middle;\n",
       "    }\n",
       "\n",
       "    .dataframe tbody tr th {\n",
       "        vertical-align: top;\n",
       "    }\n",
       "\n",
       "    .dataframe thead th {\n",
       "        text-align: right;\n",
       "    }\n",
       "</style>\n",
       "<table border=\"1\" class=\"dataframe\">\n",
       "  <thead>\n",
       "    <tr style=\"text-align: right;\">\n",
       "      <th></th>\n",
       "      <th>Сбербанк</th>\n",
       "      <th>Газпром</th>\n",
       "      <th>Лукойл</th>\n",
       "      <th>НорНикель</th>\n",
       "    </tr>\n",
       "  </thead>\n",
       "  <tbody>\n",
       "    <tr>\n",
       "      <th>Сбербанк</th>\n",
       "      <td>1.000000</td>\n",
       "      <td>-0.250438</td>\n",
       "      <td>0.828547</td>\n",
       "      <td>0.627889</td>\n",
       "    </tr>\n",
       "    <tr>\n",
       "      <th>Газпром</th>\n",
       "      <td>-0.250438</td>\n",
       "      <td>1.000000</td>\n",
       "      <td>-0.319430</td>\n",
       "      <td>-0.265727</td>\n",
       "    </tr>\n",
       "    <tr>\n",
       "      <th>Лукойл</th>\n",
       "      <td>0.828547</td>\n",
       "      <td>-0.319430</td>\n",
       "      <td>1.000000</td>\n",
       "      <td>0.855792</td>\n",
       "    </tr>\n",
       "    <tr>\n",
       "      <th>НорНикель</th>\n",
       "      <td>0.627889</td>\n",
       "      <td>-0.265727</td>\n",
       "      <td>0.855792</td>\n",
       "      <td>1.000000</td>\n",
       "    </tr>\n",
       "  </tbody>\n",
       "</table>\n",
       "</div>"
      ],
      "text/plain": [
       "           Сбербанк   Газпром    Лукойл  НорНикель\n",
       "Сбербанк   1.000000 -0.250438  0.828547   0.627889\n",
       "Газпром   -0.250438  1.000000 -0.319430  -0.265727\n",
       "Лукойл     0.828547 -0.319430  1.000000   0.855792\n",
       "НорНикель  0.627889 -0.265727  0.855792   1.000000"
      ]
     },
     "execution_count": 8,
     "metadata": {},
     "output_type": "execute_result"
    }
   ],
   "source": [
    "df.corr()"
   ]
  },
  {
   "cell_type": "markdown",
   "metadata": {},
   "source": [
    "**Все котировки имеют статистическую связь с котировками акций Сбербанка, иначе бы их не было в матрице. Значит, не будем ничего убирать из рассмотрения**\n",
    "\n",
    "**Датасет после предобработки содержит 2162 строки и 5 столбцов (4 из которых - котировки)**"
   ]
  },
  {
   "cell_type": "markdown",
   "metadata": {},
   "source": [
    "**Разобьем датасет на две выборки: обучающую (70%) и тестовую (30%)**"
   ]
  },
  {
   "cell_type": "code",
   "execution_count": 9,
   "metadata": {},
   "outputs": [],
   "source": [
    "X = df[df.columns[2:]].values\n",
    "y = df[df.columns[1]].values\n",
    "\n",
    "X_train, X_test, y_train, y_test = train_test_split(X, y, test_size = 0.3, random_state = 0)"
   ]
  },
  {
   "cell_type": "markdown",
   "metadata": {},
   "source": [
    "**Мы рассмотрим пять методов регрессии: линейная, полиномиальная, гребневая (ридж), лассо, эластичная сеть**"
   ]
  },
  {
   "cell_type": "markdown",
   "metadata": {},
   "source": [
    "## Множественная линейная регрессия"
   ]
  },
  {
   "cell_type": "markdown",
   "metadata": {},
   "source": [
    "**Формула в общем виде: <i>y = b0 + b1 * x1 + b2 * x2 + ... + bn * xn</i>**"
   ]
  },
  {
   "cell_type": "code",
   "execution_count": 10,
   "metadata": {},
   "outputs": [
    {
     "name": "stdout",
     "output_type": "stream",
     "text": [
      "MSE train: 740.932787318931\n",
      "MSE test: 617.6331277129914\n",
      "\n",
      "R^2 train: 0.7039662238382216\n",
      "R^2 test: 0.7301774033458164\n"
     ]
    }
   ],
   "source": [
    "reg = LinearRegression()\n",
    "reg.fit(X_train, y_train)\n",
    "\n",
    "print(f'MSE train: {mse(y_train, reg.predict(X_train))}\\nMSE test: {mse(y_test, reg.predict(X_test))}\\n')\n",
    "print(f'R^2 train: {r2(y_train, reg.predict(X_train))}\\nR^2 test: {r2(y_test, reg.predict(X_test))}')"
   ]
  },
  {
   "cell_type": "markdown",
   "metadata": {},
   "source": [
    "**Коэффициенты детерминации говорят о хорошем качестве модели**"
   ]
  },
  {
   "cell_type": "markdown",
   "metadata": {},
   "source": [
    "**Напишем универсальную функцию, которая будет выводить необходимую нам информацию о модели**"
   ]
  },
  {
   "cell_type": "code",
   "execution_count": 11,
   "metadata": {},
   "outputs": [],
   "source": [
    "def summary(reg, X_train, y_train, X_test, y_test):\n",
    "\n",
    "    print(f'MSE train: {mse(y_train, reg.predict(X_train))}\\nMSE test: {mse(y_test, reg.predict(X_test))}\\n')\n",
    "    print(f'R^2 train: {r2(y_train, reg.predict(X_train))}\\nR^2 test: {r2(y_test, reg.predict(X_test))}')\n",
    "    \n",
    "    y_train_pred = reg.predict(X_train)\n",
    "    y_test_pred = reg.predict(X_test)\n",
    "\n",
    "    plt.scatter(y_train_pred,  y_train_pred - y_train, c='blue', marker='o', label='Training data')\n",
    "    plt.scatter(y_test_pred,  y_test_pred - y_test, c='lightgreen', marker='s', label='Test data')\n",
    "    plt.xlabel('Predicted values')\n",
    "    plt.ylabel('Residuals')\n",
    "    plt.legend(loc='upper left')\n",
    "    plt.hlines(y=0, xmin=-4, xmax=4, lw=2, color='red')\n",
    "    plt.xlim([-4, 4])\n",
    "    plt.tight_layout()"
   ]
  },
  {
   "cell_type": "markdown",
   "metadata": {},
   "source": [
    "## Шкалирование"
   ]
  },
  {
   "cell_type": "markdown",
   "metadata": {},
   "source": [
    "**Для следующих методов регрессии (кроме полиномиальной) обязательно нужно провести шкалирование, иначе предикторы с высоким стандартным отклонением будут сильно штрафоваться**"
   ]
  },
  {
   "cell_type": "code",
   "execution_count": 12,
   "metadata": {},
   "outputs": [
    {
     "data": {
      "text/plain": [
       "(3468.183270827367, 3429.8247962106193)"
      ]
     },
     "execution_count": 12,
     "metadata": {},
     "output_type": "execute_result"
    }
   ],
   "source": [
    "X_train.std(), X_train.mean()"
   ]
  },
  {
   "cell_type": "code",
   "execution_count": 13,
   "metadata": {},
   "outputs": [],
   "source": [
    "X_std = StandardScaler().fit_transform(X)\n",
    "y_std = StandardScaler().fit_transform(y.reshape(-1, 1)).flatten()\n",
    "\n",
    "X_train_scaled, X_test_scaled, y_train_scaled, y_test_scaled = train_test_split(X_std, y_std, test_size=0.3, random_state=0)"
   ]
  },
  {
   "cell_type": "code",
   "execution_count": 14,
   "metadata": {},
   "outputs": [
    {
     "data": {
      "text/plain": [
       "(0.9971493966122479, 0.0033074748182482187)"
      ]
     },
     "execution_count": 14,
     "metadata": {},
     "output_type": "execute_result"
    }
   ],
   "source": [
    "X_train_scaled.std(), X_train_scaled.mean()"
   ]
  },
  {
   "cell_type": "markdown",
   "metadata": {},
   "source": [
    "**Шкалирование прошло успешно. Для адекватного сравнения методов построим модель множественной регрессии на шкалированных данных**"
   ]
  },
  {
   "cell_type": "code",
   "execution_count": 15,
   "metadata": {},
   "outputs": [
    {
     "name": "stdout",
     "output_type": "stream",
     "text": [
      "MSE train: 0.3038079727292749\n",
      "MSE test: 0.2532508638197918\n",
      "\n",
      "R^2 train: 0.7039662238382216\n",
      "R^2 test: 0.7301774033458164\n"
     ]
    },
    {
     "data": {
      "image/png": "[encoded data removed]",
      "text/plain": [
       "<Figure size 432x288 with 1 Axes>"
      ]
     },
     "metadata": {
      "needs_background": "light"
     },
     "output_type": "display_data"
    }
   ],
   "source": [
    "reg = LinearRegression()\n",
    "reg.fit(X_train_scaled, y_train_scaled)\n",
    "\n",
    "summary(reg, X_train_scaled, y_train_scaled, X_test_scaled, y_test_scaled)"
   ]
  },
  {
   "cell_type": "markdown",
   "metadata": {},
   "source": [
    "## Ридж регрессия"
   ]
  },
  {
   "cell_type": "markdown",
   "metadata": {},
   "source": [
    "**В методах регрессии ридж, лассо и эластичная сеть присутствует параметр alpha, участвующий в вычислении значения штрафа. В данном методе применяется регуляризация L2**"
   ]
  },
  {
   "cell_type": "code",
   "execution_count": 31,
   "metadata": {},
   "outputs": [
    {
     "name": "stdout",
     "output_type": "stream",
     "text": [
      "MSE train: 0.3038080034726968\n",
      "MSE test: 0.25324957295423367\n",
      "\n",
      "R^2 train: 0.7039661938814987\n",
      "R^2 test: 0.7301787786805005\n"
     ]
    },
    {
     "data": {
      "image/png": "[encoded data removed]",
      "text/plain": [
       "<Figure size 432x288 with 1 Axes>"
      ]
     },
     "metadata": {
      "needs_background": "light"
     },
     "output_type": "display_data"
    }
   ],
   "source": [
    "reg = Ridge(alpha = 0.1)\n",
    "reg.fit(X_train_scaled, y_train_scaled)\n",
    "\n",
    "summary(reg, X_train_scaled, y_train_scaled, X_test_scaled, y_test_scaled)"
   ]
  },
  {
   "cell_type": "markdown",
   "metadata": {},
   "source": [
    "**Показатели незначительно поменялись в лучшую сторону по сравнению с обычной линейной регрессией. Значения среднеквадратических ошибок уменьшились, а коэффициенты детерминации подросли**"
   ]
  },
  {
   "cell_type": "markdown",
   "metadata": {},
   "source": [
    "## Регрессия лассо"
   ]
  },
  {
   "cell_type": "markdown",
   "metadata": {},
   "source": [
    "**Регрессия лассо очень похожа на ридж регрессию, но здесь применяется регуляризация L1**"
   ]
  },
  {
   "cell_type": "code",
   "execution_count": 17,
   "metadata": {},
   "outputs": [
    {
     "name": "stdout",
     "output_type": "stream",
     "text": [
      "MSE train: 0.33964669761062094\n",
      "MSE test: 0.2850227744613451\n",
      "\n",
      "R^2 train: 0.6690445824996577\n",
      "R^2 test: 0.6963264647915897\n"
     ]
    },
    {
     "data": {
      "image/png": "[encoded data removed]",
      "text/plain": [
       "<Figure size 432x288 with 1 Axes>"
      ]
     },
     "metadata": {
      "needs_background": "light"
     },
     "output_type": "display_data"
    }
   ],
   "source": [
    "reg = Lasso(alpha = 0.1)\n",
    "reg.fit(X_train_scaled, y_train_scaled)\n",
    "\n",
    "summary(reg, X_train_scaled, y_train_scaled, X_test_scaled, y_test_scaled)"
   ]
  },
  {
   "cell_type": "markdown",
   "metadata": {},
   "source": [
    "**Показатели говорят о том, что эта модель хуже, чем две предыдущие**"
   ]
  },
  {
   "cell_type": "markdown",
   "metadata": {},
   "source": [
    "## Регрессия \"эластичная сеть\""
   ]
  },
  {
   "cell_type": "markdown",
   "metadata": {},
   "source": [
    "**Эластичная сеть - комбинация L1 и L2 регуляризации в определенных пропорциях. Поэтому помимо параметра alpha здесь присутствует параметр l1_ratio, означающий долю регуляризации L1 в модели**"
   ]
  },
  {
   "cell_type": "code",
   "execution_count": 18,
   "metadata": {},
   "outputs": [
    {
     "name": "stdout",
     "output_type": "stream",
     "text": [
      "MSE train: 0.3331398516870518\n",
      "MSE test: 0.2791621955658704\n",
      "\n",
      "R^2 train: 0.6753849235787693\n",
      "R^2 test: 0.702570536743103\n"
     ]
    },
    {
     "data": {
      "image/png": "[encoded data removed]",
      "text/plain": [
       "<Figure size 432x288 with 1 Axes>"
      ]
     },
     "metadata": {
      "needs_background": "light"
     },
     "output_type": "display_data"
    }
   ],
   "source": [
    "reg = ElasticNet(alpha = 0.1, l1_ratio = 0.1) # в данном случае чем меньше l1_ratio, тем точнее модель\n",
    "reg.fit(X_train_scaled, y_train_scaled)\n",
    "\n",
    "summary(reg, X_train_scaled, y_train_scaled, X_test_scaled, y_test_scaled)"
   ]
  },
  {
   "cell_type": "markdown",
   "metadata": {},
   "source": [
    "**По показателям эта модель лучше, чем лассо, но хуже, чем линейная и ридж регрессия**"
   ]
  },
  {
   "cell_type": "markdown",
   "metadata": {},
   "source": [
    "## Полиномиальная регрессия"
   ]
  },
  {
   "cell_type": "markdown",
   "metadata": {},
   "source": [
    "**В отличие от всех предыдущих методов, полиномиальная регрессия может быть нелинейной. Здесь всё зависит от степеней**"
   ]
  },
  {
   "cell_type": "code",
   "execution_count": 19,
   "metadata": {},
   "outputs": [],
   "source": [
    "def PolynomialRegression(degree):\n",
    "    \n",
    "    return Pipeline([\n",
    "        ('poly', PolynomialFeatures(degree = degree)),\n",
    "        ('lin_reg', LinearRegression())    \n",
    "    ])"
   ]
  },
  {
   "cell_type": "code",
   "execution_count": 20,
   "metadata": {},
   "outputs": [
    {
     "name": "stdout",
     "output_type": "stream",
     "text": [
      "MSE train: 0.3038079727292749\n",
      "MSE test: 0.2532508638197917\n",
      "\n",
      "R^2 train: 0.7039662238382216\n",
      "R^2 test: 0.7301774033458164\n"
     ]
    },
    {
     "data": {
      "image/png": "[encoded data removed]",
      "text/plain": [
       "<Figure size 432x288 with 1 Axes>"
      ]
     },
     "metadata": {
      "needs_background": "light"
     },
     "output_type": "display_data"
    }
   ],
   "source": [
    "reg = PolynomialRegression(1) #полиномиальная регрессия в первой степени - это линейная регрессия\n",
    "reg.fit(X_train_scaled, y_train_scaled)\n",
    "\n",
    "summary(reg, X_train_scaled, y_train_scaled, X_test_scaled, y_test_scaled)"
   ]
  },
  {
   "cell_type": "code",
   "execution_count": 21,
   "metadata": {},
   "outputs": [
    {
     "name": "stdout",
     "output_type": "stream",
     "text": [
      "MSE train: 0.13921088169821005\n",
      "MSE test: 0.11224019690320942\n",
      "\n",
      "R^2 train: 0.8643514104593456\n",
      "R^2 test: 0.8804152494462922\n"
     ]
    },
    {
     "data": {
      "image/png": "[encoded data removed]",
      "text/plain": [
       "<Figure size 432x288 with 1 Axes>"
      ]
     },
     "metadata": {
      "needs_background": "light"
     },
     "output_type": "display_data"
    }
   ],
   "source": [
    "reg = PolynomialRegression(2) #вторая степень\n",
    "reg.fit(X_train_scaled, y_train_scaled)\n",
    "\n",
    "summary(reg, X_train_scaled, y_train_scaled, X_test_scaled, y_test_scaled)"
   ]
  },
  {
   "cell_type": "code",
   "execution_count": 22,
   "metadata": {},
   "outputs": [
    {
     "name": "stdout",
     "output_type": "stream",
     "text": [
      "MSE train: 0.07177868746833195\n",
      "MSE test: 0.059518624028337394\n",
      "\n",
      "R^2 train: 0.930058070206994\n",
      "R^2 test: 0.9365867131018448\n"
     ]
    },
    {
     "data": {
      "image/png": "[encoded data removed]",
      "text/plain": [
       "<Figure size 432x288 with 1 Axes>"
      ]
     },
     "metadata": {
      "needs_background": "light"
     },
     "output_type": "display_data"
    }
   ],
   "source": [
    "reg = PolynomialRegression(3) #третья степень\n",
    "reg.fit(X_train_scaled, y_train_scaled)\n",
    "\n",
    "summary(reg, X_train_scaled, y_train_scaled, X_test_scaled, y_test_scaled)"
   ]
  },
  {
   "cell_type": "code",
   "execution_count": 23,
   "metadata": {},
   "outputs": [
    {
     "name": "stdout",
     "output_type": "stream",
     "text": [
      "MSE train: 0.04919367418934555\n",
      "MSE test: 0.045512594328546485\n",
      "\n",
      "R^2 train: 0.9520651515405708\n",
      "R^2 test: 0.9515092418759317\n"
     ]
    },
    {
     "data": {
      "image/png": "[encoded data removed]",
      "text/plain": [
       "<Figure size 432x288 with 1 Axes>"
      ]
     },
     "metadata": {
      "needs_background": "light"
     },
     "output_type": "display_data"
    }
   ],
   "source": [
    "reg = PolynomialRegression(4) #четвертая степень\n",
    "reg.fit(X_train_scaled, y_train_scaled)\n",
    "\n",
    "summary(reg, X_train_scaled, y_train_scaled, X_test_scaled, y_test_scaled)"
   ]
  },
  {
   "cell_type": "code",
   "execution_count": 24,
   "metadata": {},
   "outputs": [
    {
     "name": "stdout",
     "output_type": "stream",
     "text": [
      "MSE train: 0.03886832042315468\n",
      "MSE test: 0.03990769033630919\n",
      "\n",
      "R^2 train: 0.9621262879819622\n",
      "R^2 test: 0.9574809085718408\n"
     ]
    },
    {
     "data": {
      "image/png": "[encoded data removed]",
      "text/plain": [
       "<Figure size 432x288 with 1 Axes>"
      ]
     },
     "metadata": {
      "needs_background": "light"
     },
     "output_type": "display_data"
    }
   ],
   "source": [
    "reg = PolynomialRegression(5) #пятая степень\n",
    "reg.fit(X_train_scaled, y_train_scaled)\n",
    "\n",
    "summary(reg, X_train_scaled, y_train_scaled, X_test_scaled, y_test_scaled)"
   ]
  },
  {
   "cell_type": "code",
   "execution_count": 25,
   "metadata": {},
   "outputs": [
    {
     "name": "stdout",
     "output_type": "stream",
     "text": [
      "MSE train: 0.032894519501427626\n",
      "MSE test: 0.042228530846661255\n",
      "\n",
      "R^2 train: 0.9679472242431493\n",
      "R^2 test: 0.9550082014565394\n"
     ]
    },
    {
     "data": {
      "image/png": "[encoded data removed]",
      "text/plain": [
       "<Figure size 432x288 with 1 Axes>"
      ]
     },
     "metadata": {
      "needs_background": "light"
     },
     "output_type": "display_data"
    }
   ],
   "source": [
    "reg = PolynomialRegression(6) #шестая степень\n",
    "reg.fit(X_train_scaled, y_train_scaled)\n",
    "\n",
    "summary(reg, X_train_scaled, y_train_scaled, X_test_scaled, y_test_scaled)"
   ]
  },
  {
   "cell_type": "markdown",
   "metadata": {},
   "source": [
    "**Полиномиальная модель в пятой степени оптимальна, с дальнейшим повышением степени происходит переобучение, и точность снижается. У нее самые высокие коэффициенты детерминации и самые низкие MSE, значит, эта модель - самая точная. Кроме того, распределение остатков в данной модели больше стало походить на случайное, до этого оно напоминало нелинейный график**"
   ]
  }
 ],
 "metadata": {
  "kernelspec": {
   "display_name": "Python 3",
   "language": "python",
   "name": "python3"
  },
  "language_info": {
   "codemirror_mode": {
    "name": "ipython",
    "version": 3
   },
   "file_extension": ".py",
   "mimetype": "text/x-python",
   "name": "python",
   "nbconvert_exporter": "python",
   "pygments_lexer": "ipython3",
   "version": "3.8.5"
  }
 },
 "nbformat": 4,
 "nbformat_minor": 4
}
